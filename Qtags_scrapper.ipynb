{
 "cells": [
  {
   "cell_type": "code",
   "execution_count": 58,
   "metadata": {},
   "outputs": [],
   "source": [
    "import requests\n",
    "from lxml import etree\n",
    "import pandas as pd\n",
    "from tqdm import tqdm\n",
    "import time\n",
    "import random"
   ]
  },
  {
   "cell_type": "code",
   "execution_count": 46,
   "metadata": {},
   "outputs": [],
   "source": [
    "headers = {\n",
    "    'user-agent': 'Mozilla/5.0 (Macintosh; Intel Mac OS X 10_15_7) AppleWebKit/537.36 (KHTML, like Gecko) Chrome/92.0.4515.159 Safari/537.36',\n",
    "}"
   ]
  },
  {
   "cell_type": "code",
   "execution_count": 51,
   "metadata": {},
   "outputs": [],
   "source": [
    "def tags_scrapper(url, headers=headers):\n",
    "    with requests.request('GET', url, headers=headers) as response:\n",
    "        html = response.text\n",
    "        tree = etree.HTML(html)\n",
    "        # 解析标签\n",
    "        tag_url = tree.xpath('//div[@class=\"QuestionHeader-topics\"]/div/span/a/@href')\n",
    "        # 从url中提取标签id\n",
    "        tag_id = [i.split('/')[-1] for i in tag_url]\n",
    "        # 解析标签名\n",
    "        tag_name = tree.xpath('//div[@class=\"QuestionHeader-topics\"]/div/span/a/div/text()')\n",
    "        res = dict(zip(tag_id, tag_name))\n",
    "        return res"
   ]
  },
  {
   "cell_type": "code",
   "execution_count": 53,
   "metadata": {},
   "outputs": [
    {
     "name": "stdout",
     "output_type": "stream",
     "text": [
      "607\n"
     ]
    }
   ],
   "source": [
    "# 加载数据\n",
    "top_answers = pd.read_csv('top_answers_for_tags0124.csv')\n",
    "url_list = top_answers['标题链接'].tolist()\n",
    "print(len(url_list)) # ==607"
   ]
  },
  {
   "cell_type": "code",
   "execution_count": 59,
   "metadata": {},
   "outputs": [
    {
     "name": "stderr",
     "output_type": "stream",
     "text": [
      "抓取标签: 100%|██████████| 607/607 [25:15<00:00,  2.50s/it]\n"
     ]
    }
   ],
   "source": [
    "# 抓取标签\n",
    "tags_list = []\n",
    "for url in tqdm(url_list, desc='抓取标签'):\n",
    "    tags = tags_scrapper(url)\n",
    "    tags_list.append(tags)\n",
    "    time.sleep(random.randint(1, 3))"
   ]
  },
  {
   "cell_type": "code",
   "execution_count": 62,
   "metadata": {},
   "outputs": [],
   "source": [
    "top_answers['标签'] = tags_list\n",
    "top_answers.to_excel('question_w_tags0124.xlsx', index=False)"
   ]
  }
 ],
 "metadata": {
  "kernelspec": {
   "display_name": "Python 3",
   "language": "python",
   "name": "python3"
  },
  "language_info": {
   "codemirror_mode": {
    "name": "ipython",
    "version": 3
   },
   "file_extension": ".py",
   "mimetype": "text/x-python",
   "name": "python",
   "nbconvert_exporter": "python",
   "pygments_lexer": "ipython3",
   "version": "3.12.0"
  }
 },
 "nbformat": 4,
 "nbformat_minor": 2
}
